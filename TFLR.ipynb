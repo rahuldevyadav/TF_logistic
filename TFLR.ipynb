{
 "cells": [
  {
   "cell_type": "code",
   "execution_count": 21,
   "metadata": {},
   "outputs": [],
   "source": [
    "from sklearn.datasets import load_breast_cancer\n",
    "from sklearn.model_selection import train_test_split\n",
    "from sklearn.preprocessing import StandardScaler\n",
    "import tensorflow as tf\n",
    "import matplotlib.pyplot as plt"
   ]
  },
  {
   "cell_type": "code",
   "execution_count": 5,
   "metadata": {},
   "outputs": [],
   "source": [
    "# loading data\n",
    "data = load_breast_cancer()"
   ]
  },
  {
   "cell_type": "code",
   "execution_count": 6,
   "metadata": {},
   "outputs": [],
   "source": [
    "# data variables - features\n",
    "X = data.data\n",
    "# data traget variables\n",
    "y = data.target  "
   ]
  },
  {
   "cell_type": "code",
   "execution_count": 7,
   "metadata": {},
   "outputs": [],
   "source": [
    "# train test split 70:30\n",
    "x_train,  x_test, y_train, y_test = train_test_split(X, y, test_size=0.30, random_state=42)"
   ]
  },
  {
   "cell_type": "code",
   "execution_count": 8,
   "metadata": {},
   "outputs": [],
   "source": [
    "scale = StandardScaler()\n",
    "x_train = scale.fit_transform(x_train)\n",
    "x_test = scale.transform(x_test) "
   ]
  },
  {
   "cell_type": "code",
   "execution_count": 9,
   "metadata": {},
   "outputs": [],
   "source": [
    "N, D = x_train.shape "
   ]
  },
  {
   "cell_type": "code",
   "execution_count": 10,
   "metadata": {},
   "outputs": [
    {
     "name": "stderr",
     "output_type": "stream",
     "text": [
      "2022-04-10 15:31:48.765725: I tensorflow/stream_executor/cuda/cuda_gpu_executor.cc:936] successful NUMA node read from SysFS had negative value (-1), but there must be at least one NUMA node, so returning NUMA node zero\n",
      "2022-04-10 15:31:48.813204: I tensorflow/stream_executor/cuda/cuda_gpu_executor.cc:936] successful NUMA node read from SysFS had negative value (-1), but there must be at least one NUMA node, so returning NUMA node zero\n",
      "2022-04-10 15:31:48.813727: I tensorflow/stream_executor/cuda/cuda_gpu_executor.cc:936] successful NUMA node read from SysFS had negative value (-1), but there must be at least one NUMA node, so returning NUMA node zero\n",
      "2022-04-10 15:31:48.814971: I tensorflow/core/platform/cpu_feature_guard.cc:151] This TensorFlow binary is optimized with oneAPI Deep Neural Network Library (oneDNN) to use the following CPU instructions in performance-critical operations:  AVX2 FMA\n",
      "To enable them in other operations, rebuild TensorFlow with the appropriate compiler flags.\n",
      "2022-04-10 15:31:48.816436: I tensorflow/stream_executor/cuda/cuda_gpu_executor.cc:936] successful NUMA node read from SysFS had negative value (-1), but there must be at least one NUMA node, so returning NUMA node zero\n",
      "2022-04-10 15:31:48.816975: I tensorflow/stream_executor/cuda/cuda_gpu_executor.cc:936] successful NUMA node read from SysFS had negative value (-1), but there must be at least one NUMA node, so returning NUMA node zero\n",
      "2022-04-10 15:31:48.818705: I tensorflow/stream_executor/cuda/cuda_gpu_executor.cc:936] successful NUMA node read from SysFS had negative value (-1), but there must be at least one NUMA node, so returning NUMA node zero\n",
      "2022-04-10 15:31:49.897377: I tensorflow/stream_executor/cuda/cuda_gpu_executor.cc:936] successful NUMA node read from SysFS had negative value (-1), but there must be at least one NUMA node, so returning NUMA node zero\n",
      "2022-04-10 15:31:49.897950: I tensorflow/stream_executor/cuda/cuda_gpu_executor.cc:936] successful NUMA node read from SysFS had negative value (-1), but there must be at least one NUMA node, so returning NUMA node zero\n",
      "2022-04-10 15:31:49.898425: I tensorflow/stream_executor/cuda/cuda_gpu_executor.cc:936] successful NUMA node read from SysFS had negative value (-1), but there must be at least one NUMA node, so returning NUMA node zero\n",
      "2022-04-10 15:31:49.899676: I tensorflow/core/common_runtime/gpu/gpu_device.cc:1525] Created device /job:localhost/replica:0/task:0/device:GPU:0 with 5010 MB memory:  -> device: 0, name: GeForce GTX 1060, pci bus id: 0000:01:00.0, compute capability: 6.1\n"
     ]
    }
   ],
   "source": [
    "# # buliding model\n",
    "# model = tf.keras.models.Sequential([\n",
    "#     tf.keras.layers.Input(shape=(D, )),\n",
    "#     tf.keras.layers.Dense(1, activation='sigmoid')\n",
    "# ])\n",
    "\n",
    "# # Alternative way:\n",
    "model = tf.keras.models.Sequential()\n",
    "model.add(tf.keras.layers.Dense(1, input_shape = (D,), activation ='sigmoid'))"
   ]
  },
  {
   "cell_type": "code",
   "execution_count": 13,
   "metadata": {},
   "outputs": [],
   "source": [
    "model.compile(optimizer='adam', loss = \"binary_crossentropy\", metrics=['accuracy'])"
   ]
  },
  {
   "cell_type": "code",
   "execution_count": 14,
   "metadata": {},
   "outputs": [
    {
     "name": "stdout",
     "output_type": "stream",
     "text": [
      "Epoch 1/100\n",
      "13/13 [==============================] - 1s 18ms/step - loss: 0.8032 - accuracy: 0.5101 - val_loss: 0.7338 - val_accuracy: 0.5205\n",
      "Epoch 2/100\n",
      "13/13 [==============================] - 0s 6ms/step - loss: 0.7225 - accuracy: 0.5879 - val_loss: 0.6587 - val_accuracy: 0.5965\n",
      "Epoch 3/100\n",
      "13/13 [==============================] - 0s 6ms/step - loss: 0.6566 - accuracy: 0.6583 - val_loss: 0.5933 - val_accuracy: 0.6725\n",
      "Epoch 4/100\n",
      "13/13 [==============================] - 0s 6ms/step - loss: 0.5992 - accuracy: 0.6960 - val_loss: 0.5405 - val_accuracy: 0.7661\n",
      "Epoch 5/100\n",
      "13/13 [==============================] - 0s 6ms/step - loss: 0.5515 - accuracy: 0.7613 - val_loss: 0.4970 - val_accuracy: 0.8187\n",
      "Epoch 6/100\n",
      "13/13 [==============================] - 0s 6ms/step - loss: 0.5117 - accuracy: 0.7864 - val_loss: 0.4601 - val_accuracy: 0.8421\n",
      "Epoch 7/100\n",
      "13/13 [==============================] - 0s 6ms/step - loss: 0.4785 - accuracy: 0.8216 - val_loss: 0.4279 - val_accuracy: 0.8713\n",
      "Epoch 8/100\n",
      "13/13 [==============================] - 0s 6ms/step - loss: 0.4490 - accuracy: 0.8492 - val_loss: 0.4009 - val_accuracy: 0.8772\n",
      "Epoch 9/100\n",
      "13/13 [==============================] - 0s 6ms/step - loss: 0.4240 - accuracy: 0.8643 - val_loss: 0.3776 - val_accuracy: 0.8947\n",
      "Epoch 10/100\n",
      "13/13 [==============================] - 0s 6ms/step - loss: 0.4020 - accuracy: 0.8719 - val_loss: 0.3568 - val_accuracy: 0.9064\n",
      "Epoch 11/100\n",
      "13/13 [==============================] - 0s 6ms/step - loss: 0.3819 - accuracy: 0.8744 - val_loss: 0.3385 - val_accuracy: 0.9123\n",
      "Epoch 12/100\n",
      "13/13 [==============================] - 0s 6ms/step - loss: 0.3645 - accuracy: 0.8869 - val_loss: 0.3220 - val_accuracy: 0.9123\n",
      "Epoch 13/100\n",
      "13/13 [==============================] - 0s 6ms/step - loss: 0.3484 - accuracy: 0.8869 - val_loss: 0.3073 - val_accuracy: 0.9181\n",
      "Epoch 14/100\n",
      "13/13 [==============================] - 0s 6ms/step - loss: 0.3341 - accuracy: 0.8894 - val_loss: 0.2938 - val_accuracy: 0.9181\n",
      "Epoch 15/100\n",
      "13/13 [==============================] - 0s 6ms/step - loss: 0.3208 - accuracy: 0.8970 - val_loss: 0.2816 - val_accuracy: 0.9240\n",
      "Epoch 16/100\n",
      "13/13 [==============================] - 0s 6ms/step - loss: 0.3089 - accuracy: 0.9020 - val_loss: 0.2703 - val_accuracy: 0.9357\n",
      "Epoch 17/100\n",
      "13/13 [==============================] - 0s 6ms/step - loss: 0.2978 - accuracy: 0.9070 - val_loss: 0.2600 - val_accuracy: 0.9357\n",
      "Epoch 18/100\n",
      "13/13 [==============================] - 0s 6ms/step - loss: 0.2876 - accuracy: 0.9121 - val_loss: 0.2504 - val_accuracy: 0.9357\n",
      "Epoch 19/100\n",
      "13/13 [==============================] - 0s 6ms/step - loss: 0.2777 - accuracy: 0.9171 - val_loss: 0.2417 - val_accuracy: 0.9357\n",
      "Epoch 20/100\n",
      "13/13 [==============================] - 0s 6ms/step - loss: 0.2690 - accuracy: 0.9146 - val_loss: 0.2339 - val_accuracy: 0.9415\n",
      "Epoch 21/100\n",
      "13/13 [==============================] - 0s 6ms/step - loss: 0.2610 - accuracy: 0.9196 - val_loss: 0.2264 - val_accuracy: 0.9415\n",
      "Epoch 22/100\n",
      "13/13 [==============================] - 0s 5ms/step - loss: 0.2534 - accuracy: 0.9221 - val_loss: 0.2195 - val_accuracy: 0.9415\n",
      "Epoch 23/100\n",
      "13/13 [==============================] - 0s 6ms/step - loss: 0.2463 - accuracy: 0.9221 - val_loss: 0.2131 - val_accuracy: 0.9415\n",
      "Epoch 24/100\n",
      "13/13 [==============================] - 0s 6ms/step - loss: 0.2397 - accuracy: 0.9246 - val_loss: 0.2070 - val_accuracy: 0.9415\n",
      "Epoch 25/100\n",
      "13/13 [==============================] - 0s 6ms/step - loss: 0.2334 - accuracy: 0.9296 - val_loss: 0.2015 - val_accuracy: 0.9415\n",
      "Epoch 26/100\n",
      "13/13 [==============================] - 0s 6ms/step - loss: 0.2278 - accuracy: 0.9347 - val_loss: 0.1960 - val_accuracy: 0.9474\n",
      "Epoch 27/100\n",
      "13/13 [==============================] - 0s 6ms/step - loss: 0.2223 - accuracy: 0.9347 - val_loss: 0.1909 - val_accuracy: 0.9474\n",
      "Epoch 28/100\n",
      "13/13 [==============================] - 0s 5ms/step - loss: 0.2170 - accuracy: 0.9347 - val_loss: 0.1862 - val_accuracy: 0.9474\n",
      "Epoch 29/100\n",
      "13/13 [==============================] - 0s 5ms/step - loss: 0.2122 - accuracy: 0.9347 - val_loss: 0.1816 - val_accuracy: 0.9474\n",
      "Epoch 30/100\n",
      "13/13 [==============================] - 0s 6ms/step - loss: 0.2073 - accuracy: 0.9397 - val_loss: 0.1775 - val_accuracy: 0.9474\n",
      "Epoch 31/100\n",
      "13/13 [==============================] - 0s 6ms/step - loss: 0.2031 - accuracy: 0.9397 - val_loss: 0.1734 - val_accuracy: 0.9474\n",
      "Epoch 32/100\n",
      "13/13 [==============================] - 0s 6ms/step - loss: 0.1989 - accuracy: 0.9397 - val_loss: 0.1697 - val_accuracy: 0.9532\n",
      "Epoch 33/100\n",
      "13/13 [==============================] - 0s 6ms/step - loss: 0.1949 - accuracy: 0.9422 - val_loss: 0.1660 - val_accuracy: 0.9532\n",
      "Epoch 34/100\n",
      "13/13 [==============================] - 0s 6ms/step - loss: 0.1911 - accuracy: 0.9447 - val_loss: 0.1626 - val_accuracy: 0.9532\n",
      "Epoch 35/100\n",
      "13/13 [==============================] - 0s 6ms/step - loss: 0.1876 - accuracy: 0.9447 - val_loss: 0.1593 - val_accuracy: 0.9532\n",
      "Epoch 36/100\n",
      "13/13 [==============================] - 0s 6ms/step - loss: 0.1843 - accuracy: 0.9497 - val_loss: 0.1561 - val_accuracy: 0.9532\n",
      "Epoch 37/100\n",
      "13/13 [==============================] - 0s 6ms/step - loss: 0.1809 - accuracy: 0.9523 - val_loss: 0.1531 - val_accuracy: 0.9532\n",
      "Epoch 38/100\n",
      "13/13 [==============================] - 0s 6ms/step - loss: 0.1778 - accuracy: 0.9548 - val_loss: 0.1503 - val_accuracy: 0.9532\n",
      "Epoch 39/100\n",
      "13/13 [==============================] - 0s 6ms/step - loss: 0.1748 - accuracy: 0.9548 - val_loss: 0.1477 - val_accuracy: 0.9532\n",
      "Epoch 40/100\n",
      "13/13 [==============================] - 0s 6ms/step - loss: 0.1720 - accuracy: 0.9548 - val_loss: 0.1450 - val_accuracy: 0.9532\n",
      "Epoch 41/100\n",
      "13/13 [==============================] - 0s 6ms/step - loss: 0.1692 - accuracy: 0.9573 - val_loss: 0.1424 - val_accuracy: 0.9591\n",
      "Epoch 42/100\n",
      "13/13 [==============================] - 0s 6ms/step - loss: 0.1666 - accuracy: 0.9598 - val_loss: 0.1400 - val_accuracy: 0.9591\n",
      "Epoch 43/100\n",
      "13/13 [==============================] - 0s 6ms/step - loss: 0.1641 - accuracy: 0.9598 - val_loss: 0.1377 - val_accuracy: 0.9591\n",
      "Epoch 44/100\n",
      "13/13 [==============================] - 0s 6ms/step - loss: 0.1616 - accuracy: 0.9623 - val_loss: 0.1356 - val_accuracy: 0.9591\n",
      "Epoch 45/100\n",
      "13/13 [==============================] - 0s 10ms/step - loss: 0.1594 - accuracy: 0.9623 - val_loss: 0.1334 - val_accuracy: 0.9591\n",
      "Epoch 46/100\n",
      "13/13 [==============================] - 0s 7ms/step - loss: 0.1570 - accuracy: 0.9648 - val_loss: 0.1314 - val_accuracy: 0.9591\n",
      "Epoch 47/100\n",
      "13/13 [==============================] - 0s 6ms/step - loss: 0.1549 - accuracy: 0.9648 - val_loss: 0.1295 - val_accuracy: 0.9591\n",
      "Epoch 48/100\n",
      "13/13 [==============================] - 0s 6ms/step - loss: 0.1530 - accuracy: 0.9648 - val_loss: 0.1276 - val_accuracy: 0.9591\n",
      "Epoch 49/100\n",
      "13/13 [==============================] - 0s 6ms/step - loss: 0.1510 - accuracy: 0.9648 - val_loss: 0.1257 - val_accuracy: 0.9591\n",
      "Epoch 50/100\n",
      "13/13 [==============================] - 0s 6ms/step - loss: 0.1490 - accuracy: 0.9648 - val_loss: 0.1240 - val_accuracy: 0.9591\n",
      "Epoch 51/100\n",
      "13/13 [==============================] - 0s 6ms/step - loss: 0.1473 - accuracy: 0.9648 - val_loss: 0.1222 - val_accuracy: 0.9649\n",
      "Epoch 52/100\n",
      "13/13 [==============================] - 0s 6ms/step - loss: 0.1455 - accuracy: 0.9673 - val_loss: 0.1206 - val_accuracy: 0.9649\n",
      "Epoch 53/100\n",
      "13/13 [==============================] - 0s 6ms/step - loss: 0.1438 - accuracy: 0.9673 - val_loss: 0.1191 - val_accuracy: 0.9708\n",
      "Epoch 54/100\n",
      "13/13 [==============================] - 0s 6ms/step - loss: 0.1422 - accuracy: 0.9673 - val_loss: 0.1176 - val_accuracy: 0.9708\n",
      "Epoch 55/100\n",
      "13/13 [==============================] - 0s 6ms/step - loss: 0.1407 - accuracy: 0.9673 - val_loss: 0.1160 - val_accuracy: 0.9708\n",
      "Epoch 56/100\n",
      "13/13 [==============================] - 0s 8ms/step - loss: 0.1390 - accuracy: 0.9673 - val_loss: 0.1146 - val_accuracy: 0.9766\n",
      "Epoch 57/100\n",
      "13/13 [==============================] - 0s 7ms/step - loss: 0.1375 - accuracy: 0.9673 - val_loss: 0.1132 - val_accuracy: 0.9825\n",
      "Epoch 58/100\n",
      "13/13 [==============================] - 0s 6ms/step - loss: 0.1360 - accuracy: 0.9673 - val_loss: 0.1119 - val_accuracy: 0.9825\n",
      "Epoch 59/100\n",
      "13/13 [==============================] - 0s 7ms/step - loss: 0.1347 - accuracy: 0.9673 - val_loss: 0.1105 - val_accuracy: 0.9825\n",
      "Epoch 60/100\n",
      "13/13 [==============================] - 0s 6ms/step - loss: 0.1333 - accuracy: 0.9673 - val_loss: 0.1092 - val_accuracy: 0.9825\n",
      "Epoch 61/100\n",
      "13/13 [==============================] - 0s 6ms/step - loss: 0.1320 - accuracy: 0.9673 - val_loss: 0.1081 - val_accuracy: 0.9883\n",
      "Epoch 62/100\n",
      "13/13 [==============================] - 0s 7ms/step - loss: 0.1308 - accuracy: 0.9673 - val_loss: 0.1069 - val_accuracy: 0.9883\n",
      "Epoch 63/100\n",
      "13/13 [==============================] - 0s 6ms/step - loss: 0.1295 - accuracy: 0.9673 - val_loss: 0.1057 - val_accuracy: 0.9883\n",
      "Epoch 64/100\n",
      "13/13 [==============================] - 0s 6ms/step - loss: 0.1283 - accuracy: 0.9673 - val_loss: 0.1045 - val_accuracy: 0.9883\n",
      "Epoch 65/100\n",
      "13/13 [==============================] - 0s 6ms/step - loss: 0.1271 - accuracy: 0.9673 - val_loss: 0.1035 - val_accuracy: 0.9883\n",
      "Epoch 66/100\n",
      "13/13 [==============================] - 0s 7ms/step - loss: 0.1260 - accuracy: 0.9698 - val_loss: 0.1025 - val_accuracy: 0.9883\n",
      "Epoch 67/100\n",
      "13/13 [==============================] - 0s 7ms/step - loss: 0.1249 - accuracy: 0.9698 - val_loss: 0.1015 - val_accuracy: 0.9883\n",
      "Epoch 68/100\n",
      "13/13 [==============================] - 0s 6ms/step - loss: 0.1238 - accuracy: 0.9698 - val_loss: 0.1005 - val_accuracy: 0.9883\n",
      "Epoch 69/100\n",
      "13/13 [==============================] - 0s 6ms/step - loss: 0.1228 - accuracy: 0.9698 - val_loss: 0.0994 - val_accuracy: 0.9883\n",
      "Epoch 70/100\n",
      "13/13 [==============================] - 0s 6ms/step - loss: 0.1217 - accuracy: 0.9698 - val_loss: 0.0985 - val_accuracy: 0.9883\n",
      "Epoch 71/100\n",
      "13/13 [==============================] - 0s 6ms/step - loss: 0.1207 - accuracy: 0.9698 - val_loss: 0.0975 - val_accuracy: 0.9883\n",
      "Epoch 72/100\n",
      "13/13 [==============================] - 0s 6ms/step - loss: 0.1198 - accuracy: 0.9698 - val_loss: 0.0966 - val_accuracy: 0.9883\n",
      "Epoch 73/100\n",
      "13/13 [==============================] - 0s 6ms/step - loss: 0.1189 - accuracy: 0.9698 - val_loss: 0.0957 - val_accuracy: 0.9883\n",
      "Epoch 74/100\n",
      "13/13 [==============================] - 0s 6ms/step - loss: 0.1180 - accuracy: 0.9698 - val_loss: 0.0949 - val_accuracy: 0.9883\n",
      "Epoch 75/100\n",
      "13/13 [==============================] - 0s 6ms/step - loss: 0.1172 - accuracy: 0.9698 - val_loss: 0.0940 - val_accuracy: 0.9883\n",
      "Epoch 76/100\n",
      "13/13 [==============================] - 0s 6ms/step - loss: 0.1163 - accuracy: 0.9698 - val_loss: 0.0933 - val_accuracy: 0.9883\n",
      "Epoch 77/100\n",
      "13/13 [==============================] - 0s 6ms/step - loss: 0.1154 - accuracy: 0.9698 - val_loss: 0.0925 - val_accuracy: 0.9883\n",
      "Epoch 78/100\n",
      "13/13 [==============================] - 0s 7ms/step - loss: 0.1146 - accuracy: 0.9698 - val_loss: 0.0917 - val_accuracy: 0.9883\n",
      "Epoch 79/100\n",
      "13/13 [==============================] - 0s 6ms/step - loss: 0.1138 - accuracy: 0.9698 - val_loss: 0.0910 - val_accuracy: 0.9883\n",
      "Epoch 80/100\n",
      "13/13 [==============================] - 0s 6ms/step - loss: 0.1131 - accuracy: 0.9698 - val_loss: 0.0903 - val_accuracy: 0.9883\n",
      "Epoch 81/100\n",
      "13/13 [==============================] - 0s 6ms/step - loss: 0.1123 - accuracy: 0.9698 - val_loss: 0.0896 - val_accuracy: 0.9883\n",
      "Epoch 82/100\n",
      "13/13 [==============================] - 0s 6ms/step - loss: 0.1115 - accuracy: 0.9698 - val_loss: 0.0889 - val_accuracy: 0.9883\n",
      "Epoch 83/100\n",
      "13/13 [==============================] - 0s 6ms/step - loss: 0.1108 - accuracy: 0.9698 - val_loss: 0.0882 - val_accuracy: 0.9883\n",
      "Epoch 84/100\n",
      "13/13 [==============================] - 0s 6ms/step - loss: 0.1101 - accuracy: 0.9698 - val_loss: 0.0876 - val_accuracy: 0.9883\n",
      "Epoch 85/100\n",
      "13/13 [==============================] - 0s 6ms/step - loss: 0.1094 - accuracy: 0.9698 - val_loss: 0.0869 - val_accuracy: 0.9883\n",
      "Epoch 86/100\n",
      "13/13 [==============================] - 0s 6ms/step - loss: 0.1088 - accuracy: 0.9698 - val_loss: 0.0863 - val_accuracy: 0.9883\n",
      "Epoch 87/100\n",
      "13/13 [==============================] - 0s 6ms/step - loss: 0.1082 - accuracy: 0.9698 - val_loss: 0.0857 - val_accuracy: 0.9883\n",
      "Epoch 88/100\n",
      "13/13 [==============================] - 0s 6ms/step - loss: 0.1075 - accuracy: 0.9698 - val_loss: 0.0850 - val_accuracy: 0.9883\n",
      "Epoch 89/100\n",
      "13/13 [==============================] - 0s 5ms/step - loss: 0.1069 - accuracy: 0.9698 - val_loss: 0.0844 - val_accuracy: 0.9883\n",
      "Epoch 90/100\n",
      "13/13 [==============================] - 0s 6ms/step - loss: 0.1063 - accuracy: 0.9698 - val_loss: 0.0839 - val_accuracy: 0.9883\n",
      "Epoch 91/100\n",
      "13/13 [==============================] - 0s 6ms/step - loss: 0.1056 - accuracy: 0.9698 - val_loss: 0.0834 - val_accuracy: 0.9883\n",
      "Epoch 92/100\n",
      "13/13 [==============================] - 0s 6ms/step - loss: 0.1050 - accuracy: 0.9698 - val_loss: 0.0828 - val_accuracy: 0.9883\n",
      "Epoch 93/100\n",
      "13/13 [==============================] - 0s 6ms/step - loss: 0.1045 - accuracy: 0.9698 - val_loss: 0.0823 - val_accuracy: 0.9883\n",
      "Epoch 94/100\n",
      "13/13 [==============================] - 0s 7ms/step - loss: 0.1038 - accuracy: 0.9698 - val_loss: 0.0818 - val_accuracy: 0.9883\n",
      "Epoch 95/100\n",
      "13/13 [==============================] - 0s 6ms/step - loss: 0.1033 - accuracy: 0.9698 - val_loss: 0.0813 - val_accuracy: 0.9883\n",
      "Epoch 96/100\n",
      "13/13 [==============================] - 0s 6ms/step - loss: 0.1027 - accuracy: 0.9724 - val_loss: 0.0808 - val_accuracy: 0.9883\n",
      "Epoch 97/100\n",
      "13/13 [==============================] - 0s 6ms/step - loss: 0.1022 - accuracy: 0.9724 - val_loss: 0.0803 - val_accuracy: 0.9883\n",
      "Epoch 98/100\n",
      "13/13 [==============================] - 0s 6ms/step - loss: 0.1017 - accuracy: 0.9724 - val_loss: 0.0798 - val_accuracy: 0.9883\n",
      "Epoch 99/100\n",
      "13/13 [==============================] - 0s 6ms/step - loss: 0.1012 - accuracy: 0.9724 - val_loss: 0.0793 - val_accuracy: 0.9883\n",
      "Epoch 100/100\n",
      "13/13 [==============================] - 0s 6ms/step - loss: 0.1007 - accuracy: 0.9749 - val_loss: 0.0789 - val_accuracy: 0.9883\n"
     ]
    }
   ],
   "source": [
    "r = model.fit(x_train,y_train, validation_data=(x_test, y_test), epochs= 100)"
   ]
  },
  {
   "cell_type": "code",
   "execution_count": 20,
   "metadata": {},
   "outputs": [
    {
     "data": {
      "text/plain": [
       "[<matplotlib.lines.Line2D at 0x7f309bef9820>]"
      ]
     },
     "execution_count": 20,
     "metadata": {},
     "output_type": "execute_result"
    },
    {
     "data": {
      "image/png": "[encoded data removed]",
      "text/plain": [
       "<Figure size 432x288 with 1 Axes>"
      ]
     },
     "metadata": {
      "needs_background": "light"
     },
     "output_type": "display_data"
    }
   ],
   "source": [
    "plt.plot(r.history['loss'], label ='loss')\n",
    "plt.plot(r.history['val_loss'], label ='val_loss')"
   ]
  },
  {
   "cell_type": "code",
   "execution_count": null,
   "metadata": {},
   "outputs": [],
   "source": []
  }
 ],
 "metadata": {
  "interpreter": {
   "hash": "916dbcbb3f70747c44a77c7bcd40155683ae19c65e1c03b4aa3499c5328201f1"
  },
  "kernelspec": {
   "display_name": "Python 3.8.10 64-bit",
   "language": "python",
   "name": "python3"
  },
  "language_info": {
   "codemirror_mode": {
    "name": "ipython",
    "version": 3
   },
   "file_extension": ".py",
   "mimetype": "text/x-python",
   "name": "python",
   "nbconvert_exporter": "python",
   "pygments_lexer": "ipython3",
   "version": "3.8.10"
  },
  "orig_nbformat": 4
 },
 "nbformat": 4,
 "nbformat_minor": 2
}
